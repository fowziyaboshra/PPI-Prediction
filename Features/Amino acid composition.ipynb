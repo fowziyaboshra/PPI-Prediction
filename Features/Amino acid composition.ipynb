{
 "cells": [
  {
   "cell_type": "code",
   "execution_count": 9,
   "id": "c1d72044",
   "metadata": {},
   "outputs": [],
   "source": [
    "import pandas as pd\n",
    "from Bio import SeqIO\n",
    "from collections import Counter\n",
    "\n",
    "# Define the paths to your input FASTA file and output Excel file\n",
    "input_fasta_file = \"N_proteinB_fasta.txt\"\n",
    "output_excel_file = \"NB_output.xlsx\"\n",
    "\n",
    "# Read and process each sequence in the input FASTA file\n",
    "data = []\n",
    "with open(input_fasta_file, \"r\") as infile:\n",
    "    for record in SeqIO.parse(infile, \"fasta\"):\n",
    "        sequence = record.seq\n",
    "        amino_acid_counts = Counter(sequence)\n",
    "        total_amino_acids = len(sequence)\n",
    "        amino_acid_composition = {amino_acid: count / total_amino_acids for amino_acid, count in amino_acid_counts.items()}\n",
    "        \n",
    "        # Add the sequence ID and amino acid composition to the data list\n",
    "        data.append({\"Sequence ID\": record.id, **amino_acid_composition})\n",
    "\n",
    "# Create a DataFrame from the data\n",
    "df = pd.DataFrame(data)\n",
    "\n",
    "# Write the DataFrame to the output Excel file\n",
    "df.to_excel(output_excel_file, index=False)\n"
   ]
  },
  {
   "cell_type": "code",
   "execution_count": null,
   "id": "3d85c65e",
   "metadata": {},
   "outputs": [],
   "source": []
  }
 ],
 "metadata": {
  "kernelspec": {
   "display_name": "Python 3 (ipykernel)",
   "language": "python",
   "name": "python3"
  },
  "language_info": {
   "codemirror_mode": {
    "name": "ipython",
    "version": 3
   },
   "file_extension": ".py",
   "mimetype": "text/x-python",
   "name": "python",
   "nbconvert_exporter": "python",
   "pygments_lexer": "ipython3",
   "version": "3.9.12"
  }
 },
 "nbformat": 4,
 "nbformat_minor": 5
}
