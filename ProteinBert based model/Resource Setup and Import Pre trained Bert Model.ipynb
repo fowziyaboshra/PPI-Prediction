{
 "cells": [
  {
   "cell_type": "code",
   "execution_count": null,
   "id": "fc9ed347",
   "metadata": {},
   "outputs": [],
   "source": [
    "import torch\n",
    "from torch import nn, optim\n",
    "from torch.utils.data import DataLoader, Dataset\n",
    "from sklearn.model_selection import train_test_split\n",
    "from sklearn.metrics import f1_score, precision_score, recall_score, accuracy_score"
   ]
  },
  {
   "cell_type": "code",
   "execution_count": null,
   "id": "773783c3",
   "metadata": {},
   "outputs": [],
   "source": [
    "device = torch.device(\"cuda\" if torch.cuda.is_available() else \"cpu\")"
   ]
  },
  {
   "cell_type": "code",
   "execution_count": null,
   "id": "926450f2",
   "metadata": {},
   "outputs": [],
   "source": [
    "from transformers import AutoModel, AutoTokenizer\n",
    "import torch\n",
    "from torch import nn, optim\n",
    "from torch.utils.data import DataLoader, Dataset\n",
    "from sklearn.model_selection import train_test_split\n",
    "from sklearn.metrics import f1_score, precision_score, recall_score, accuracy_score"
   ]
  },
  {
   "cell_type": "code",
   "execution_count": null,
   "id": "78dbcffb",
   "metadata": {},
   "outputs": [],
   "source": [
    "import torch\n",
    "from transformers import BertModel, AdamW\n",
    "\n",
    "class ProteinBertClassifier(torch.nn.Module):\n",
    "    def __init__(self, bert_model_name, num_labels):\n",
    "        super().__init__()\n",
    "        self.bert = BertModel.from_pretrained(bert_model_name)\n",
    "        self.classifier = torch.nn.Linear(self.bert.config.hidden_size, num_labels)\n",
    "\n",
    "    def forward(self, input_ids, attention_mask=None, token_type_ids=None):\n",
    "        outputs = self.bert(input_ids=input_ids, attention_mask=attention_mask, token_type_ids=token_type_ids)\n",
    "        cls_output = outputs[0][:, 0, :] # get the CLS token output\n",
    "        cls_output = self.classifier(cls_output)\n",
    "        return cls_output"
   ]
  },
  {
   "cell_type": "code",
   "execution_count": null,
   "id": "cd222039",
   "metadata": {},
   "outputs": [],
   "source": [
    "from transformers import BertModel, BertTokenizer\n",
    "import re\n",
    "\n",
    "# bert_model_name = 'Rostlab/prot_bert' \n",
    "bert_model_name = \"yarongef/DistilProtBert\"\n",
    "\n",
    "# Number of output labels (classes)\n",
    "num_labels = 2\n",
    "\n",
    "tokenizer = BertTokenizer.from_pretrained(bert_model_name, do_lower_case=False )\n",
    "model = ProteinBertClassifier(bert_model_name, num_labels).to(device)\n",
    "\n",
    "# Freezing the parameters of the BertModel\n",
    "for param in model.bert.parameters():\n",
    "    param.requires_grad = False\n",
    "\n",
    "# Leaving the classifier unfrozen (can train)\n",
    "for param in model.classifier.parameters():\n",
    "    param.requires_grad = True\n",
    "\n",
    "# Optimizer\n",
    "optimizer = AdamW(model.classifier.parameters(), lr=1e-5)\n",
    "criterion = nn.BCEWithLogitsLoss()"
   ]
  }
 ],
 "metadata": {
  "kernelspec": {
   "display_name": "Python 3 (ipykernel)",
   "language": "python",
   "name": "python3"
  },
  "language_info": {
   "codemirror_mode": {
    "name": "ipython",
    "version": 3
   },
   "file_extension": ".py",
   "mimetype": "text/x-python",
   "name": "python",
   "nbconvert_exporter": "python",
   "pygments_lexer": "ipython3",
   "version": "3.9.12"
  }
 },
 "nbformat": 4,
 "nbformat_minor": 5
}
