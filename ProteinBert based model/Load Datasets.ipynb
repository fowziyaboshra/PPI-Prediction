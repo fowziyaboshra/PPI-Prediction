{
 "cells": [
  {
   "cell_type": "code",
   "execution_count": 1,
   "id": "14396b0d",
   "metadata": {},
   "outputs": [],
   "source": [
    "import random\n",
    "import os\n",
    "from Bio import SeqIO\n",
    "from Bio import Align\n",
    "from tqdm import tqdm\n",
    "from sklearn.model_selection import train_test_split"
   ]
  },
  {
   "cell_type": "code",
   "execution_count": 2,
   "id": "671a969a",
   "metadata": {},
   "outputs": [],
   "source": [
    "#Define amino acids\n",
    "amino_acids = ['A', 'C', 'D', 'E', 'F', 'G', 'H', 'I', 'K', 'L', 'M', 'N', 'P', 'Q', 'R', 'S', 'T', 'V', 'W', 'Y', 'X']\n",
    "\n",
    "a2i = { val : idx for idx, val in enumerate(amino_acids) }\n",
    "i2a = { idx : val for idx, val in enumerate(amino_acids) }\n",
    "\n",
    "def add_padding(seq, desired_length, pad_char):\n",
    "    seq = seq.ljust(desired_length, pad_char)\n",
    "    return list(seq)\n",
    "\n",
    "def read_protein_data(path_1, path_2, label):\n",
    "    with open(path_1) as seqs1, open(path_2) as seqs2:\n",
    "        fasta_sequences_1 = SeqIO.parse(seqs1,'fasta')\n",
    "        fasta_sequences_2 = SeqIO.parse(seqs2,'fasta')\n",
    "        \n",
    "        samples = list()\n",
    "        \n",
    "        for fasta_1, fasta_2 in zip(fasta_sequences_1, fasta_sequences_2):\n",
    "            if len(str(fasta_1.seq)) > protLength or len(str(fasta_1.seq)) > protLength:\n",
    "                continue\n",
    "            \n",
    "            samples.append({\n",
    "                's1' : str(fasta_1.seq), # add_padding(str(fasta_1.seq), desired_length= 5000, pad_char= 'X'),\n",
    "                's2' : str(fasta_2.seq), # add_padding(str(fasta_2.seq), desired_length= 5000, pad_char= 'X'),\n",
    "                'label' : label\n",
    "            })\n",
    "        \n",
    "        return samples"
   ]
  },
  {
   "cell_type": "code",
   "execution_count": 4,
   "id": "ff3b60e5",
   "metadata": {},
   "outputs": [],
   "source": [
    "non_interacting_protein_data = read_protein_data(\n",
    "    path_1= \"N_proteinA_fasta.txt\",\n",
    "    path_2= \"N_proteinB_fasta.txt\", \n",
    "    label= 0)\n",
    "\n",
    "interacting_protein_data = read_protein_data(\n",
    "    path_1= \"P_proteinA_fasta.txt\",\n",
    "    path_2= \"P_proteinB_fasta.txt\", \n",
    "    label= 1)\n",
    "\n",
    "final_protein_data = non_interacting_protein_data + interacting_protein_data\n",
    "random.shuffle(final_protein_data)"
   ]
  },
  {
   "cell_type": "code",
   "execution_count": 5,
   "id": "bc1396c4",
   "metadata": {},
   "outputs": [
    {
     "data": {
      "text/plain": [
       "(137, 73, 210)"
      ]
     },
     "execution_count": 5,
     "metadata": {},
     "output_type": "execute_result"
    }
   ],
   "source": [
    "len(non_interacting_protein_data), len(interacting_protein_data), len(final_protein_data)"
   ]
  },
  {
   "cell_type": "code",
   "execution_count": 6,
   "id": "839b839a",
   "metadata": {},
   "outputs": [],
   "source": [
    "train_data, test_data = train_test_split(final_protein_data, test_size=0.1)\n",
    "train_data, validation_data = train_test_split(train_data, test_size=0.1)"
   ]
  },
  {
   "cell_type": "code",
   "execution_count": null,
   "id": "9f902722",
   "metadata": {},
   "outputs": [],
   "source": []
  }
 ],
 "metadata": {
  "kernelspec": {
   "display_name": "Python 3 (ipykernel)",
   "language": "python",
   "name": "python3"
  },
  "language_info": {
   "codemirror_mode": {
    "name": "ipython",
    "version": 3
   },
   "file_extension": ".py",
   "mimetype": "text/x-python",
   "name": "python",
   "nbconvert_exporter": "python",
   "pygments_lexer": "ipython3",
   "version": "3.9.12"
  }
 },
 "nbformat": 4,
 "nbformat_minor": 5
}
