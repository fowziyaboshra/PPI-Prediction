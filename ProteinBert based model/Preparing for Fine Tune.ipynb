{
 "cells": [
  {
   "cell_type": "code",
   "execution_count": null,
   "id": "bff0ad09",
   "metadata": {},
   "outputs": [],
   "source": [
    "class ProteinDataset(Dataset):\n",
    "    def __init__(self, data, tokenizer):\n",
    "        self.data = data\n",
    "        self.tokenizer = tokenizer\n",
    "\n",
    "    def __len__(self):\n",
    "        return len(self.data)\n",
    "\n",
    "    def __getitem__(self, idx):\n",
    "        \n",
    "        seq1 = \" \".join(list(self.data[idx]['s1']))\n",
    "        seq1 = re.sub(r\"[UZOB]\", \"X\", seq1)\n",
    "        \n",
    "        seq2 = \" \".join(list(self.data[idx]['s2']))\n",
    "        seq2 = re.sub(r\"[UZOB]\", \"X\", seq2)\n",
    "        \n",
    "        seq = \"[SEP]\".join(seq1 + seq2)\n",
    "        seq = \"[CLS] \" + seq \n",
    "        \n",
    "        seq_tokenized = self.tokenizer.encode(seq, return_tensors='pt').squeeze()\n",
    "        \n",
    "        #print(seq_tokenized.shape)\n",
    "        \n",
    "        #s1 = self.tokenizer.encode(seq1, return_tensors='pt').squeeze().to(device)\n",
    "        #s2 = self.tokenizer.encode(seq2, return_tensors='pt').squeeze().to(device)\n",
    "        \n",
    "        #x = torch.cat((s1, s2), dim=0).to(device)\n",
    "        y = torch.tensor(self.data[idx]['label'])\n",
    "        \n",
    "        return seq_tokenized, y"
   ]
  }
 ],
 "metadata": {
  "kernelspec": {
   "display_name": "Python 3 (ipykernel)",
   "language": "python",
   "name": "python3"
  },
  "language_info": {
   "codemirror_mode": {
    "name": "ipython",
    "version": 3
   },
   "file_extension": ".py",
   "mimetype": "text/x-python",
   "name": "python",
   "nbconvert_exporter": "python",
   "pygments_lexer": "ipython3",
   "version": "3.9.12"
  }
 },
 "nbformat": 4,
 "nbformat_minor": 5
}
