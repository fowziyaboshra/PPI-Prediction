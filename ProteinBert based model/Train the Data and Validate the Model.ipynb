{
 "cells": [
  {
   "cell_type": "code",
   "execution_count": null,
   "id": "fb9ee26b",
   "metadata": {},
   "outputs": [],
   "source": [
    "import torch.nn.functional as F"
   ]
  },
  {
   "cell_type": "code",
   "execution_count": null,
   "id": "a79f5c3f",
   "metadata": {},
   "outputs": [],
   "source": [
    "# Convert the data into PyTorch datasets and data loaders\n",
    "train_loader = DataLoader(ProteinDataset(train_data, tokenizer), batch_size=1)\n",
    "val_loader = DataLoader(ProteinDataset(validation_data, tokenizer), batch_size=1)\n",
    "test_loader = DataLoader(ProteinDataset(test_data, tokenizer), batch_size=1)"
   ]
  },
  {
   "cell_type": "code",
   "execution_count": null,
   "id": "4c199823",
   "metadata": {},
   "outputs": [],
   "source": [
    "epoch_no = 10"
   ]
  },
  {
   "cell_type": "code",
   "execution_count": null,
   "id": "52720957",
   "metadata": {},
   "outputs": [],
   "source": [
    "# Train the model\n",
    "for epoch in range(epoch_no):  # 10 epochs\n",
    "    model.train()\n",
    "    progress_bar = tqdm(train_loader, desc=f'Epoch {epoch + 1}')\n",
    "    for inputs, labels in progress_bar:\n",
    "        #print(labels)\n",
    "        optimizer.zero_grad()\n",
    "        inputs, labels = inputs.to(device), labels.to(device)\n",
    "        outputs = model(inputs.long()).squeeze()\n",
    "        loss = criterion(outputs, F.one_hot(labels, num_classes=2).float().view(-1))\n",
    "        loss.backward()\n",
    "        optimizer.step()\n",
    "\n",
    "    # Validate the model\n",
    "    model.eval()\n",
    "    val_labels = []\n",
    "    val_preds = []\n",
    "    with torch.no_grad():\n",
    "        for inputs, labels in val_loader:\n",
    "            inputs, labels = inputs.to(device), labels.to(device)\n",
    "            outputs = model(inputs.long()).squeeze()\n",
    "            preds = torch.round(torch.sigmoid(outputs))\n",
    "            max_indices = torch.argmax(preds, dim=0)\n",
    "            #print(preds)\n",
    "            #print(\"------------------\")\n",
    "            val_labels.extend(labels.cpu().numpy())\n",
    "            val_preds.append(max_indices.cpu().numpy())\n",
    "    print('Epoch:', epoch, \n",
    "          'Validation Accuracy:', accuracy_score(val_labels, val_preds), \n",
    "          'Validation F1:', f1_score(val_labels, val_preds), \n",
    "          'Validation Precision:', precision_score(val_labels, val_preds), \n",
    "          'Validation Recall:', recall_score(val_labels, val_preds))\n",
    "    progress_bar.close()"
   ]
  }
 ],
 "metadata": {
  "kernelspec": {
   "display_name": "Python 3 (ipykernel)",
   "language": "python",
   "name": "python3"
  },
  "language_info": {
   "codemirror_mode": {
    "name": "ipython",
    "version": 3
   },
   "file_extension": ".py",
   "mimetype": "text/x-python",
   "name": "python",
   "nbconvert_exporter": "python",
   "pygments_lexer": "ipython3",
   "version": "3.9.12"
  }
 },
 "nbformat": 4,
 "nbformat_minor": 5
}
